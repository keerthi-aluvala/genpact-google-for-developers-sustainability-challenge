{
 "cells": [
  {
   "cell_type": "code",
   "execution_count": null,
   "id": "1d455542",
   "metadata": {},
   "outputs": [],
   "source": [
    "import pandas as pd\n",
    "import numpy as np\n",
    "import matplotlib.pyplot as plt\n",
    "import plotly.express as px\n",
    "import pandas as pd\n",
    "import numpy as np\n",
    "from xgboost import XGBRFRegressor\n",
    "from sklearn.metrics import mean_squared_log_error, mean_squared_error\n",
    "from sklearn.model_selection import train_test_split"
   ]
  },
  {
   "cell_type": "code",
   "execution_count": null,
   "id": "1ce0e0f6",
   "metadata": {},
   "outputs": [],
   "source": [
    "# Load the data\n",
    "india_train = pd.read_csv(\"India_train.csv\")\n",
    "india_test = pd.read_csv(\"India_test.csv\")\n",
    "usa_train = pd.read_csv(\"USA_train.csv\")\n",
    "usa_test = pd.read_csv(\"USA_test.csv\")\n",
    "soil_rainfall = pd.read_csv(\"India_soil_rainfall_30years.csv\")\n",
    "commodity = pd.read_csv(\"USA_Commodity_prices.csv\")\n",
    "submission = pd.read_csv(\"submission.csv\")"
   ]
  },
  {
   "cell_type": "code",
   "execution_count": null,
   "id": "ecbed979",
   "metadata": {},
   "outputs": [],
   "source": [
    "india_train"
   ]
  },
  {
   "cell_type": "code",
   "execution_count": null,
   "id": "8cbc32e6",
   "metadata": {},
   "outputs": [],
   "source": [
    "india_train.shape"
   ]
  },
  {
   "cell_type": "code",
   "execution_count": null,
   "id": "d76a8ca2",
   "metadata": {},
   "outputs": [],
   "source": [
    "india_test.shape"
   ]
  },
  {
   "cell_type": "code",
   "execution_count": null,
   "id": "53596d1a",
   "metadata": {},
   "outputs": [],
   "source": [
    "india_train.info()"
   ]
  },
  {
   "cell_type": "code",
   "execution_count": null,
   "id": "15339706",
   "metadata": {},
   "outputs": [],
   "source": [
    "india_test.info()"
   ]
  },
  {
   "cell_type": "code",
   "execution_count": null,
   "id": "1cee7c2d",
   "metadata": {},
   "outputs": [],
   "source": [
    "india_train.describe()"
   ]
  },
  {
   "cell_type": "code",
   "execution_count": null,
   "id": "cda3a256",
   "metadata": {},
   "outputs": [],
   "source": [
    "india_test.describe()"
   ]
  },
  {
   "cell_type": "code",
   "execution_count": null,
   "id": "3edf8cdf",
   "metadata": {},
   "outputs": [],
   "source": [
    "india_train.isnull().sum()"
   ]
  },
  {
   "cell_type": "code",
   "execution_count": null,
   "id": "80604ec1",
   "metadata": {},
   "outputs": [],
   "source": [
    "india_train=india_train.fillna(\"0\")"
   ]
  },
  {
   "cell_type": "code",
   "execution_count": null,
   "id": "c522ce26",
   "metadata": {},
   "outputs": [],
   "source": [
    "india_train= india_train.astype(float, errors='ignore')"
   ]
  },
  {
   "cell_type": "code",
   "execution_count": null,
   "id": "e834c92c",
   "metadata": {},
   "outputs": [],
   "source": [
    "india_train.dtypes"
   ]
  },
  {
   "cell_type": "code",
   "execution_count": null,
   "id": "8fa8976d",
   "metadata": {},
   "outputs": [],
   "source": [
    "india_train = india_train.drop(['State Name','Dist Name'], axis=1)"
   ]
  },
  {
   "cell_type": "code",
   "execution_count": null,
   "id": "469a06e4",
   "metadata": {},
   "outputs": [],
   "source": [
    "fig = px.scatter(india_train, x=\"COTTON PRODUCTION (1000 tons)\", y=\"COTTON YIELD (Kg per ha)\")\n",
    "fig.show()"
   ]
  },
  {
   "cell_type": "code",
   "execution_count": null,
   "id": "21de5ff0",
   "metadata": {},
   "outputs": [],
   "source": [
    "fig = px.scatter(india_train, x=\"COTTON AREA (1000 ha)\", y=\"COTTON PRODUCTION (1000 tons)\")\n",
    "fig.show()"
   ]
  },
  {
   "cell_type": "code",
   "execution_count": null,
   "id": "3c8ba91e",
   "metadata": {},
   "outputs": [],
   "source": [
    "# Load the training data\n",
    "# Separate the features and the target variable for prediction\n",
    "columns = india_train.columns"
   ]
  },
  {
   "cell_type": "code",
   "execution_count": null,
   "id": "902fe0e0",
   "metadata": {},
   "outputs": [],
   "source": [
    "columns"
   ]
  },
  {
   "cell_type": "code",
   "execution_count": null,
   "id": "b196afaf",
   "metadata": {},
   "outputs": [],
   "source": [
    "columns = [col for col in columns if col not in ['COTTON YIELD (Kg per ha)']]"
   ]
  },
  {
   "cell_type": "code",
   "execution_count": null,
   "id": "fb4218fd",
   "metadata": {},
   "outputs": [],
   "source": [
    "#for demo perpose we are using number values"
   ]
  },
  {
   "cell_type": "code",
   "execution_count": null,
   "id": "3b3ca7ae",
   "metadata": {},
   "outputs": [],
   "source": [
    "features = columns\n",
    "target = 'COTTON YIELD (Kg per ha)'\n",
    "\n",
    "X = india_train[features]\n",
    "y = india_train[target]"
   ]
  },
  {
   "cell_type": "code",
   "execution_count": null,
   "id": "6f389e1d",
   "metadata": {},
   "outputs": [],
   "source": [
    "X"
   ]
  },
  {
   "cell_type": "code",
   "execution_count": null,
   "id": "0d402780",
   "metadata": {},
   "outputs": [],
   "source": [
    "# Split the data into training set and validation set\n",
    "X_train, X_val, y_train, y_val = train_test_split(X, y, test_size=0.1, random_state=42)\n",
    "\n",
    "# Define the model\n",
    "model_fare = XGBRFRegressor()\n",
    "\n",
    "# Train the model\n",
    "model_fare.fit(X_train, y_train)\n",
    "\n",
    "# Predict the validation set results\n",
    "y_pred_val = model_fare.predict(X_val)"
   ]
  },
  {
   "cell_type": "code",
   "execution_count": null,
   "id": "217ac584",
   "metadata": {},
   "outputs": [],
   "source": [
    "# Calculate the MSE\n",
    "mse = np.sqrt(mean_squared_error(y_val, y_pred_val))\n",
    "print(f\"Validation MSE: {mse}\")"
   ]
  },
  {
   "cell_type": "code",
   "execution_count": null,
   "id": "21d1df77",
   "metadata": {},
   "outputs": [],
   "source": [
    "# Predict the yield in the test set\n",
    "india_test['COTTON YIELD (Kg per ha)'] = model_fare.predict(india_test[features])"
   ]
  },
  {
   "cell_type": "code",
   "execution_count": null,
   "id": "c111d3b2",
   "metadata": {},
   "outputs": [],
   "source": [
    "submission_india=india_test['COTTON YIELD (Kg per ha)']"
   ]
  },
  {
   "cell_type": "code",
   "execution_count": null,
   "id": "c98d0590",
   "metadata": {},
   "outputs": [],
   "source": [
    "submission_india"
   ]
  },
  {
   "cell_type": "markdown",
   "id": "8eae50e7",
   "metadata": {},
   "source": [
    "# Let train USA data"
   ]
  },
  {
   "cell_type": "code",
   "execution_count": null,
   "id": "72ddc96d",
   "metadata": {},
   "outputs": [],
   "source": [
    "columns = usa_train.columns"
   ]
  },
  {
   "cell_type": "code",
   "execution_count": null,
   "id": "f0124cf8",
   "metadata": {},
   "outputs": [],
   "source": [
    "columns"
   ]
  },
  {
   "cell_type": "code",
   "execution_count": null,
   "id": "2b70c479",
   "metadata": {},
   "outputs": [],
   "source": [
    "usa_train=usa_train.fillna(\"0\")"
   ]
  },
  {
   "cell_type": "code",
   "execution_count": null,
   "id": "3971ec70",
   "metadata": {},
   "outputs": [],
   "source": [
    "usa_train= usa_train.astype(float, errors='ignore')"
   ]
  },
  {
   "cell_type": "code",
   "execution_count": null,
   "id": "a8684989",
   "metadata": {
    "scrolled": true
   },
   "outputs": [],
   "source": [
    "usa_train.dtypes"
   ]
  },
  {
   "cell_type": "code",
   "execution_count": null,
   "id": "4b87c807",
   "metadata": {},
   "outputs": [],
   "source": [
    "usa_train=usa_train.drop(['State','Planted (1000 Acres)',\"Harvested (1000 Acres)\"], axis=1)"
   ]
  },
  {
   "cell_type": "code",
   "execution_count": null,
   "id": "7d572fc8",
   "metadata": {},
   "outputs": [],
   "source": [
    "usa_train"
   ]
  },
  {
   "cell_type": "code",
   "execution_count": null,
   "id": "b84d4be5",
   "metadata": {},
   "outputs": [],
   "source": [
    "columns=usa_train.columns"
   ]
  },
  {
   "cell_type": "code",
   "execution_count": null,
   "id": "84289a89",
   "metadata": {},
   "outputs": [],
   "source": [
    "columns"
   ]
  },
  {
   "cell_type": "code",
   "execution_count": null,
   "id": "00dca963",
   "metadata": {},
   "outputs": [],
   "source": [
    "columns = [col for col in columns if col not in ['Yield (Pounds/ Harvested Area)']]"
   ]
  },
  {
   "cell_type": "code",
   "execution_count": null,
   "id": "d0b442d5",
   "metadata": {},
   "outputs": [],
   "source": [
    "features = columns\n",
    "target = 'Yield (Pounds/ Harvested Area)'\n",
    "\n",
    "X = usa_train[features]\n",
    "y = usa_train[target]"
   ]
  },
  {
   "cell_type": "code",
   "execution_count": null,
   "id": "e793c594",
   "metadata": {},
   "outputs": [],
   "source": [
    "# Split the data into training set and validation set\n",
    "X_train, X_val, y_train, y_val = train_test_split(X, y, test_size=0.1, random_state=42)\n",
    "\n",
    "# Define the model\n",
    "model_fare = XGBRFRegressor()\n",
    "\n",
    "# Train the model\n",
    "model_fare.fit(X_train, y_train)\n",
    "\n",
    "# Predict the validation set results\n",
    "y_pred_val = model_fare.predict(X_val)"
   ]
  },
  {
   "cell_type": "code",
   "execution_count": null,
   "id": "a771701a",
   "metadata": {},
   "outputs": [],
   "source": [
    "# Calculate the MSE\n",
    "mse = np.sqrt(mean_squared_error(y_val, y_pred_val))\n",
    "print(f\"Validation MSE: {mse}\")"
   ]
  },
  {
   "cell_type": "code",
   "execution_count": null,
   "id": "f7490d71",
   "metadata": {},
   "outputs": [],
   "source": [
    "usa_test"
   ]
  },
  {
   "cell_type": "code",
   "execution_count": null,
   "id": "ccb061ec",
   "metadata": {},
   "outputs": [],
   "source": [
    "# Predict the yield in the test set\n",
    "usa_test['Yield (Pounds/ Harvested Area)'] = model_fare.predict(usa_test[features])"
   ]
  },
  {
   "cell_type": "code",
   "execution_count": null,
   "id": "642d7cdb",
   "metadata": {},
   "outputs": [],
   "source": [
    "usa_test"
   ]
  },
  {
   "cell_type": "code",
   "execution_count": null,
   "id": "7465646b",
   "metadata": {},
   "outputs": [],
   "source": [
    "submission_usa=usa_test['Yield (Pounds/ Harvested Area)']"
   ]
  },
  {
   "cell_type": "code",
   "execution_count": null,
   "id": "8c1f8d3a",
   "metadata": {},
   "outputs": [],
   "source": [
    "submission_usa"
   ]
  },
  {
   "cell_type": "code",
   "execution_count": null,
   "id": "bef10ec4",
   "metadata": {},
   "outputs": [],
   "source": [
    "commodity"
   ]
  },
  {
   "cell_type": "markdown",
   "id": "1cd2acf6",
   "metadata": {},
   "source": [
    "### We need to find relation and fill the data from year 2003 to 2022 with the USA data"
   ]
  },
  {
   "cell_type": "code",
   "execution_count": null,
   "id": "d23f4f52",
   "metadata": {},
   "outputs": [],
   "source": [
    "# Convert the 'Year' column to numeric type if it's not already\n",
    "commodity['Year'] = pd.to_numeric(commodity['Year'])\n",
    "\n",
    "# Select the rows between the years 2003 and 2022\n",
    "submission_commodity = commodity[(commodity['Year'] >= 2003) & (commodity['Year'] <= 2022)]\n"
   ]
  },
  {
   "cell_type": "code",
   "execution_count": null,
   "id": "0798f0f5",
   "metadata": {},
   "outputs": [],
   "source": [
    "submission_commodity=submission_commodity[\"Cotton_Price[Dollar/ton]\"]"
   ]
  },
  {
   "cell_type": "markdown",
   "id": "71e9f46e",
   "metadata": {},
   "source": [
    "### To create the final submission file"
   ]
  },
  {
   "cell_type": "code",
   "execution_count": null,
   "id": "05b8c518",
   "metadata": {},
   "outputs": [],
   "source": [
    "submission = pd.concat([submission_india,submission_usa,submission_commodity],axis=1)"
   ]
  },
  {
   "cell_type": "code",
   "execution_count": null,
   "id": "fe90bad0",
   "metadata": {},
   "outputs": [],
   "source": [
    "submission"
   ]
  },
  {
   "cell_type": "code",
   "execution_count": null,
   "id": "f70c2d35",
   "metadata": {},
   "outputs": [],
   "source": [
    "submission = submission.fillna(0)"
   ]
  },
  {
   "cell_type": "code",
   "execution_count": null,
   "id": "8afe160c",
   "metadata": {},
   "outputs": [],
   "source": [
    "submission"
   ]
  },
  {
   "cell_type": "code",
   "execution_count": null,
   "id": "99c83d9c",
   "metadata": {},
   "outputs": [],
   "source": [
    "submission.to_csv(\"submission.csv\",index=False)"
   ]
  },
  {
   "cell_type": "code",
   "execution_count": null,
   "id": "9d157e48",
   "metadata": {},
   "outputs": [],
   "source": []
  },
  {
   "cell_type": "code",
   "execution_count": null,
   "id": "2ce2dc4a",
   "metadata": {},
   "outputs": [],
   "source": []
  },
  {
   "cell_type": "code",
   "execution_count": null,
   "id": "b5f2ec39",
   "metadata": {},
   "outputs": [],
   "source": []
  },
  {
   "cell_type": "code",
   "execution_count": null,
   "id": "6d07ca03",
   "metadata": {},
   "outputs": [],
   "source": []
  },
  {
   "cell_type": "code",
   "execution_count": null,
   "id": "43af126b",
   "metadata": {},
   "outputs": [],
   "source": []
  },
  {
   "cell_type": "code",
   "execution_count": null,
   "id": "df4b19ef",
   "metadata": {},
   "outputs": [],
   "source": []
  }
 ],
 "metadata": {
  "kernelspec": {
   "display_name": "Python 3 (ipykernel)",
   "language": "python",
   "name": "python3"
  },
  "language_info": {
   "codemirror_mode": {
    "name": "ipython",
    "version": 3
   },
   "file_extension": ".py",
   "mimetype": "text/x-python",
   "name": "python",
   "nbconvert_exporter": "python",
   "pygments_lexer": "ipython3",
   "version": "3.10.11"
  }
 },
 "nbformat": 4,
 "nbformat_minor": 5
}
